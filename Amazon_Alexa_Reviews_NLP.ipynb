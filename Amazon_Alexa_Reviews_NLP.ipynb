{
  "nbformat": 4,
  "nbformat_minor": 0,
  "metadata": {
    "colab": {
      "name": "Coding Challenge (Jake Huneycutt)",
      "version": "0.3.2",
      "provenance": []
    },
    "kernelspec": {
      "name": "python3",
      "display_name": "Python 3"
    },
    "accelerator": "GPU"
  },
  "cells": [
    {
      "metadata": {
        "id": "xL32PfbePfbo",
        "colab_type": "text"
      },
      "cell_type": "markdown",
      "source": [
        "# Iris Analytics AI Coding Challenge\n",
        "## Intro\n",
        "Hello, and thank you for interviewing with us! At Iris Analytics, we're on a mission to provide companies and researchers with the best data science talent the world can offer. Our platform seeks to enable data science collaboration on a global scale, handled by our marketplace. To do this, we have to ensure that we only take the best and brightest. That means you!\n",
        "\n",
        "## Challenge\n",
        "This challenge is focused on necessary data science skills like cleaning, exploration, and visualization. Because the Iris marketplace has you bid hours on tasks, this challenge will be timed. It is not recommended that you spend more than 2 hours on this challenge.This is to ensure that our data scientists get paid fairly and can perform the work in reasonable amounts of time.\n",
        "\n",
        "### Timing\n",
        "The timing is defined by the timestamp of your first edit (logged in the revision history) and the timestamp of your emailed solution notebook.\n",
        "\n",
        "### Questions?\n",
        "If you have any questions about the challenge, feel free to email cprinzz@gmail.com.\n",
        "\n",
        "### Summary\n",
        "Scores will be determined based on your completeness and accuracy first, and your time second. No revisions can be made after the submission. We will get back to you within 48 hours with your result. Good luck, and again, thank you for your interest in becoming an Iris Analytics data scientist!"
      ]
    },
    {
      "metadata": {
        "id": "WapCd2bcjUmc",
        "colab_type": "text"
      },
      "cell_type": "markdown",
      "source": [
        "## Amazon Alexa Review Dataset\n",
        "\n",
        "The imported dataset contains reviews from the Amazon Alexa. The goal of this challenge is to clean, explore, and visualize this data to create a sentiment analysis model to predict the rating based on the review text. Let's get started."
      ]
    },
    {
      "metadata": {
        "id": "ycCz3BG9PUHi",
        "colab_type": "code",
        "outputId": "4c8b8fd3-3709-488b-fd48-3cd131fb5e41",
        "colab": {
          "base_uri": "https://localhost:8080/",
          "height": 34
        }
      },
      "cell_type": "code",
      "source": [
        "# Standard imports. You can import any other packages needed. You can install\n",
        "# additional packages by using:\n",
        "# !pip install pandas\n",
        "import pandas as pd\n",
        "import matplotlib.pyplot as plt\n",
        "import numpy as np\n",
        "import seaborn as sns\n",
        "\n",
        "# ignore warnings\n",
        "import warnings\n",
        "def ignore_warn(*args, **kwargs):\n",
        "    pass\n",
        "warnings.warn = ignore_warn\n",
        "warnings.filterwarnings(\"ignore\", category=Warning)\n",
        "print('Warnings will be ignored!')\n"
      ],
      "execution_count": 0,
      "outputs": [
        {
          "output_type": "stream",
          "text": [
            "Warnings will be ignored!\n"
          ],
          "name": "stdout"
        }
      ]
    },
    {
      "metadata": {
        "id": "iKaDyLbXQPZh",
        "colab_type": "code",
        "outputId": "4aebbb91-5dfb-4470-8849-2ee185b72f1f",
        "colab": {
          "base_uri": "https://localhost:8080/",
          "height": 748
        }
      },
      "cell_type": "code",
      "source": [
        "# Fetch dataset\n",
        "df = pd.read_csv('https://s3-us-west-2.amazonaws.com/patchworks-coding-challenge/amazon_alexa.tsv', sep='\\t')\n",
        "print(df.head(20))"
      ],
      "execution_count": 0,
      "outputs": [
        {
          "output_type": "stream",
          "text": [
            "    rating       date             variation  \\\n",
            "0        5  31-Jul-18      Charcoal Fabric    \n",
            "1        5  31-Jul-18      Charcoal Fabric    \n",
            "2        4  31-Jul-18        Walnut Finish    \n",
            "3        5  31-Jul-18      Charcoal Fabric    \n",
            "4        5  31-Jul-18      Charcoal Fabric    \n",
            "5        5  31-Jul-18  Heather Gray Fabric    \n",
            "6        3  31-Jul-18     Sandstone Fabric    \n",
            "7        5  31-Jul-18      Charcoal Fabric    \n",
            "8        5  30-Jul-18  Heather Gray Fabric    \n",
            "9        5  30-Jul-18  Heather Gray Fabric    \n",
            "10       5  30-Jul-18      Charcoal Fabric    \n",
            "11       5  30-Jul-18      Charcoal Fabric    \n",
            "12       5  30-Jul-18           Oak Finish    \n",
            "13       5  30-Jul-18      Charcoal Fabric    \n",
            "14       5  30-Jul-18           Oak Finish    \n",
            "15       5  30-Jul-18  Heather Gray Fabric    \n",
            "16       5  30-Jul-18  Heather Gray Fabric    \n",
            "17       5  30-Jul-18  Heather Gray Fabric    \n",
            "18       5  30-Jul-18      Charcoal Fabric    \n",
            "19       4  30-Jul-18     Sandstone Fabric    \n",
            "\n",
            "                                     verified_reviews  feedback  \n",
            "0                                       Love my Echo!         1  \n",
            "1                                           Loved it!         1  \n",
            "2   Sometimes while playing a game, you can answer...         1  \n",
            "3   I have had a lot of fun with this thing. My 4 ...         1  \n",
            "4                                               Music         1  \n",
            "5   I received the echo as a gift. I needed anothe...         1  \n",
            "6   Without having a cellphone, I cannot use many ...         1  \n",
            "7   I think this is the 5th one I've purchased. I'...         1  \n",
            "8                                         looks great         1  \n",
            "9   Love it! I’ve listened to songs I haven’t hear...         1  \n",
            "10  I sent it to my 85 year old Dad, and he talks ...         1  \n",
            "11  I love it! Learning knew things with it eveyda...         1  \n",
            "12  I purchased this for my mother who is having k...         1  \n",
            "13                                 Love, Love, Love!!         1  \n",
            "14                           Just what I expected....         1  \n",
            "15                          I love it, wife hates it.         1  \n",
            "16  Really happy with this purchase.  Great speake...         1  \n",
            "17  We have only been using Alexa for a couple of ...         1  \n",
            "18  We love the size of the 2nd generation echo. S...         1  \n",
            "19  I liked the original Echo. This is the same bu...         1  \n"
          ],
          "name": "stdout"
        }
      ]
    },
    {
      "metadata": {
        "id": "6r3bKonPRALi",
        "colab_type": "code",
        "outputId": "0c7e1c22-bd46-46a0-a0ad-af9cd6bd89da",
        "colab": {
          "base_uri": "https://localhost:8080/",
          "height": 187
        }
      },
      "cell_type": "code",
      "source": [
        "df.info()"
      ],
      "execution_count": 0,
      "outputs": [
        {
          "output_type": "stream",
          "text": [
            "<class 'pandas.core.frame.DataFrame'>\n",
            "RangeIndex: 3150 entries, 0 to 3149\n",
            "Data columns (total 5 columns):\n",
            "rating              3150 non-null int64\n",
            "date                3150 non-null object\n",
            "variation           3150 non-null object\n",
            "verified_reviews    3150 non-null object\n",
            "feedback            3150 non-null int64\n",
            "dtypes: int64(2), object(3)\n",
            "memory usage: 123.1+ KB\n"
          ],
          "name": "stdout"
        }
      ]
    },
    {
      "metadata": {
        "id": "4oLFYxATkyw0",
        "colab_type": "text"
      },
      "cell_type": "markdown",
      "source": [
        "## Cleaning\n",
        "\n",
        "It's been discovered that all verified_reviews that are only say \"love it\" or are only one word are actually fake. Reviews like \"great!\" or \"Love It!\" need to be removed from the dataset.\n",
        "\n",
        "In the cell below, remove one word and \"love it\" reviews from the dataset."
      ]
    },
    {
      "metadata": {
        "id": "-KJwChk5Rk1D",
        "colab_type": "code",
        "colab": {}
      },
      "cell_type": "code",
      "source": [
        "# convert all strings to lowercase\n",
        "df['verified_reviews'] = df['verified_reviews'].str.lower()"
      ],
      "execution_count": 0,
      "outputs": []
    },
    {
      "metadata": {
        "id": "7YxHXcecRyfw",
        "colab_type": "code",
        "colab": {}
      },
      "cell_type": "code",
      "source": [
        "# remove punctuation\n",
        "import string\n",
        "df['verified_reviews'] = df['verified_reviews'].str.replace('[{}]'.format(string.punctuation), '')"
      ],
      "execution_count": 0,
      "outputs": []
    },
    {
      "metadata": {
        "id": "_meHLWOyk_c-",
        "colab_type": "code",
        "colab": {}
      },
      "cell_type": "code",
      "source": [
        "# remove 'love it' and 'loved it'\n",
        "df = df[df['verified_reviews'] != 'love it']\n",
        "df = df[df['verified_reviews'] != 'loved it']"
      ],
      "execution_count": 0,
      "outputs": []
    },
    {
      "metadata": {
        "id": "MlGiSEBbRdgI",
        "colab_type": "code",
        "outputId": "67b5e2a7-ac77-4c58-ca94-c2072694fdda",
        "colab": {
          "base_uri": "https://localhost:8080/",
          "height": 408
        }
      },
      "cell_type": "code",
      "source": [
        "print(df.head(10))"
      ],
      "execution_count": 0,
      "outputs": [
        {
          "output_type": "stream",
          "text": [
            "    rating       date             variation  \\\n",
            "0        5  31-Jul-18      Charcoal Fabric    \n",
            "2        4  31-Jul-18        Walnut Finish    \n",
            "3        5  31-Jul-18      Charcoal Fabric    \n",
            "4        5  31-Jul-18      Charcoal Fabric    \n",
            "5        5  31-Jul-18  Heather Gray Fabric    \n",
            "6        3  31-Jul-18     Sandstone Fabric    \n",
            "7        5  31-Jul-18      Charcoal Fabric    \n",
            "8        5  30-Jul-18  Heather Gray Fabric    \n",
            "9        5  30-Jul-18  Heather Gray Fabric    \n",
            "10       5  30-Jul-18      Charcoal Fabric    \n",
            "\n",
            "                                     verified_reviews  feedback  \n",
            "0                                        love my echo         1  \n",
            "2   sometimes while playing a game you can answer ...         1  \n",
            "3   i have had a lot of fun with this thing my 4 y...         1  \n",
            "4                                               music         1  \n",
            "5   i received the echo as a gift i needed another...         1  \n",
            "6   without having a cellphone i cannot use many o...         1  \n",
            "7   i think this is the 5th one ive purchased im w...         1  \n",
            "8                                         looks great         1  \n",
            "9   love it i’ve listened to songs i haven’t heard...         1  \n",
            "10  i sent it to my 85 year old dad and he talks t...         1  \n"
          ],
          "name": "stdout"
        }
      ]
    },
    {
      "metadata": {
        "id": "lF-r0ZTZSeqx",
        "colab_type": "code",
        "colab": {}
      },
      "cell_type": "code",
      "source": [
        "# create word count feature\n",
        "df['word_count'] = df['verified_reviews'].str.split().apply(len)"
      ],
      "execution_count": 0,
      "outputs": []
    },
    {
      "metadata": {
        "id": "0TSy5R_qSy9F",
        "colab_type": "code",
        "colab": {}
      },
      "cell_type": "code",
      "source": [
        "df = df[df['word_count'] != 1]"
      ],
      "execution_count": 0,
      "outputs": []
    },
    {
      "metadata": {
        "id": "C9E49yrqSezc",
        "colab_type": "code",
        "outputId": "f9aa8061-8bfd-4081-832f-28cf6f9666af",
        "colab": {
          "base_uri": "https://localhost:8080/",
          "height": 408
        }
      },
      "cell_type": "code",
      "source": [
        "print(df.head(10))"
      ],
      "execution_count": 0,
      "outputs": [
        {
          "output_type": "stream",
          "text": [
            "    rating       date             variation  \\\n",
            "0        5  31-Jul-18      Charcoal Fabric    \n",
            "2        4  31-Jul-18        Walnut Finish    \n",
            "3        5  31-Jul-18      Charcoal Fabric    \n",
            "5        5  31-Jul-18  Heather Gray Fabric    \n",
            "6        3  31-Jul-18     Sandstone Fabric    \n",
            "7        5  31-Jul-18      Charcoal Fabric    \n",
            "8        5  30-Jul-18  Heather Gray Fabric    \n",
            "9        5  30-Jul-18  Heather Gray Fabric    \n",
            "10       5  30-Jul-18      Charcoal Fabric    \n",
            "11       5  30-Jul-18      Charcoal Fabric    \n",
            "\n",
            "                                     verified_reviews  feedback  word_count  \n",
            "0                                        love my echo         1           3  \n",
            "2   sometimes while playing a game you can answer ...         1          38  \n",
            "3   i have had a lot of fun with this thing my 4 y...         1          34  \n",
            "5   i received the echo as a gift i needed another...         1          32  \n",
            "6   without having a cellphone i cannot use many o...         1          75  \n",
            "7   i think this is the 5th one ive purchased im w...         1          40  \n",
            "8                                         looks great         1           2  \n",
            "9   love it i’ve listened to songs i haven’t heard...         1          19  \n",
            "10  i sent it to my 85 year old dad and he talks t...         1          15  \n",
            "11  i love it learning knew things with it eveyday...         1          32  \n"
          ],
          "name": "stdout"
        }
      ]
    },
    {
      "metadata": {
        "id": "OPDwk0qzVEe4",
        "colab_type": "text"
      },
      "cell_type": "markdown",
      "source": [
        "# Datetime Features\n",
        "\n",
        "Add some datetime features for better visualization and possibly predictions"
      ]
    },
    {
      "metadata": {
        "id": "UnkF2eFFVJj1",
        "colab_type": "code",
        "colab": {}
      },
      "cell_type": "code",
      "source": [
        "df['datetime'] = pd.to_datetime(df['date'])"
      ],
      "execution_count": 0,
      "outputs": []
    },
    {
      "metadata": {
        "id": "RPGfwH9mVWsg",
        "colab_type": "code",
        "colab": {}
      },
      "cell_type": "code",
      "source": [
        "# create function to extract datetime features\n",
        "def date_extraction(feature):\n",
        "    day_of_year_list = []\n",
        "    day_of_week_list = []\n",
        "    \n",
        "    for i in feature:\n",
        "        day_of_year_list.append(i.dayofyear)\n",
        "        day_of_week_list.append(i.dayofweek)\n",
        "    \n",
        "    return day_of_year_list, day_of_week_list"
      ],
      "execution_count": 0,
      "outputs": []
    },
    {
      "metadata": {
        "id": "4gmJCe2eVW54",
        "colab_type": "code",
        "colab": {}
      },
      "cell_type": "code",
      "source": [
        "df['day_of_year'] = date_extraction(df['datetime'])[0]"
      ],
      "execution_count": 0,
      "outputs": []
    },
    {
      "metadata": {
        "id": "naUhD701WSSA",
        "colab_type": "code",
        "colab": {}
      },
      "cell_type": "code",
      "source": [
        "df['day_of_week'] = date_extraction(df['datetime'])[1]"
      ],
      "execution_count": 0,
      "outputs": []
    },
    {
      "metadata": {
        "id": "jm2INi91WXGS",
        "colab_type": "code",
        "outputId": "4bb2732b-3c11-4078-ef12-9a547eed2876",
        "colab": {
          "base_uri": "https://localhost:8080/",
          "height": 612
        }
      },
      "cell_type": "code",
      "source": [
        "print(df.head(10))"
      ],
      "execution_count": 0,
      "outputs": [
        {
          "output_type": "stream",
          "text": [
            "    rating       date             variation  \\\n",
            "0        5  31-Jul-18      Charcoal Fabric    \n",
            "2        4  31-Jul-18        Walnut Finish    \n",
            "3        5  31-Jul-18      Charcoal Fabric    \n",
            "5        5  31-Jul-18  Heather Gray Fabric    \n",
            "6        3  31-Jul-18     Sandstone Fabric    \n",
            "7        5  31-Jul-18      Charcoal Fabric    \n",
            "8        5  30-Jul-18  Heather Gray Fabric    \n",
            "9        5  30-Jul-18  Heather Gray Fabric    \n",
            "10       5  30-Jul-18      Charcoal Fabric    \n",
            "11       5  30-Jul-18      Charcoal Fabric    \n",
            "\n",
            "                                     verified_reviews  feedback  word_count  \\\n",
            "0                                        love my echo         1           3   \n",
            "2   sometimes while playing a game you can answer ...         1          38   \n",
            "3   i have had a lot of fun with this thing my 4 y...         1          34   \n",
            "5   i received the echo as a gift i needed another...         1          32   \n",
            "6   without having a cellphone i cannot use many o...         1          75   \n",
            "7   i think this is the 5th one ive purchased im w...         1          40   \n",
            "8                                         looks great         1           2   \n",
            "9   love it i’ve listened to songs i haven’t heard...         1          19   \n",
            "10  i sent it to my 85 year old dad and he talks t...         1          15   \n",
            "11  i love it learning knew things with it eveyday...         1          32   \n",
            "\n",
            "     datetime  day_of_year  day_of_week  \n",
            "0  2018-07-31          212            1  \n",
            "2  2018-07-31          212            1  \n",
            "3  2018-07-31          212            1  \n",
            "5  2018-07-31          212            1  \n",
            "6  2018-07-31          212            1  \n",
            "7  2018-07-31          212            1  \n",
            "8  2018-07-30          211            0  \n",
            "9  2018-07-30          211            0  \n",
            "10 2018-07-30          211            0  \n",
            "11 2018-07-30          211            0  \n"
          ],
          "name": "stdout"
        }
      ]
    },
    {
      "metadata": {
        "id": "EYImrAtNWkNq",
        "colab_type": "code",
        "outputId": "645fac62-b1d0-4cbe-9973-ced69f132056",
        "colab": {
          "base_uri": "https://localhost:8080/",
          "height": 204
        }
      },
      "cell_type": "code",
      "source": [
        "df['datetime'].value_counts()[:10]"
      ],
      "execution_count": 0,
      "outputs": [
        {
          "output_type": "execute_result",
          "data": {
            "text/plain": [
              "2018-07-30    1544\n",
              "2018-07-29     464\n",
              "2018-07-28     236\n",
              "2018-07-26      84\n",
              "2018-07-31      77\n",
              "2018-07-25      40\n",
              "2018-07-27      36\n",
              "2018-07-19      35\n",
              "2018-07-20      28\n",
              "2018-07-24      25\n",
              "Name: datetime, dtype: int64"
            ]
          },
          "metadata": {
            "tags": []
          },
          "execution_count": 56
        }
      ]
    },
    {
      "metadata": {
        "id": "dpZ_GImXW7Al",
        "colab_type": "code",
        "colab": {}
      },
      "cell_type": "code",
      "source": [
        "dt_min = df['datetime'].min()"
      ],
      "execution_count": 0,
      "outputs": []
    },
    {
      "metadata": {
        "id": "msxjeM4VW9lM",
        "colab_type": "code",
        "colab": {}
      },
      "cell_type": "code",
      "source": [
        "dt_max = df['datetime'].max()"
      ],
      "execution_count": 0,
      "outputs": []
    },
    {
      "metadata": {
        "id": "fSI9kuvuXFyI",
        "colab_type": "code",
        "outputId": "636c56db-732a-425a-ca33-654cbdec170b",
        "colab": {
          "base_uri": "https://localhost:8080/",
          "height": 34
        }
      },
      "cell_type": "code",
      "source": [
        "dt_diff = dt_max - dt_min\n",
        "print(dt_diff)"
      ],
      "execution_count": 0,
      "outputs": [
        {
          "output_type": "stream",
          "text": [
            "76 days 00:00:00\n"
          ],
          "name": "stdout"
        }
      ]
    },
    {
      "metadata": {
        "id": "r9Vgv3G2l4a6",
        "colab_type": "text"
      },
      "cell_type": "markdown",
      "source": [
        "## Visualization\n",
        "\n",
        "In the cells below:\n",
        "1.   Create a bar graph showing the number of reviews per day from the date of the first review to the date of the last review\n",
        "2.   Create a histogram of ratings\n",
        "\n",
        "All graphs must have labels for X and Y axes.\n",
        "\n"
      ]
    },
    {
      "metadata": {
        "id": "A5FAe8MFoh2i",
        "colab_type": "code",
        "colab": {}
      },
      "cell_type": "code",
      "source": [
        "# Create a bar graph showing the number of reviews per day from the date of the\n",
        "# first review to the date of the last review"
      ],
      "execution_count": 0,
      "outputs": []
    },
    {
      "metadata": {
        "id": "HTxzT76CTAFE",
        "colab_type": "code",
        "outputId": "e6182a75-026f-4be8-fa53-4d6ca5afc839",
        "colab": {
          "base_uri": "https://localhost:8080/",
          "height": 376
        }
      },
      "cell_type": "code",
      "source": [
        "# seaborn countplot of reviews per day\n",
        "plt.title('Reviews per day (chronological)')\n",
        "\n",
        "sns.countplot(data=df, x='datetime', color='red')\n",
        "plt.xticks([])\n",
        "plt.ylabel('# of Reviews')\n",
        "plt.xlabel('Date')\n",
        "\n",
        ";"
      ],
      "execution_count": 0,
      "outputs": [
        {
          "output_type": "execute_result",
          "data": {
            "text/plain": [
              "''"
            ]
          },
          "metadata": {
            "tags": []
          },
          "execution_count": 68
        },
        {
          "output_type": "display_data",
          "data": {
            "image/png": "[encoded data removed]",
            "text/plain": [
              "<Figure size 576x396 with 1 Axes>"
            ]
          },
          "metadata": {
            "tags": []
          }
        }
      ]
    },
    {
      "metadata": {
        "id": "OFjB6DXETANr",
        "colab_type": "code",
        "outputId": "6e5976a4-f30c-433d-f1d0-e50e09c6b150",
        "colab": {
          "base_uri": "https://localhost:8080/",
          "height": 503
        }
      },
      "cell_type": "code",
      "source": [
        "# alternate plot of reviews per day\n",
        "plt.figure(figsize=(15,8))\n",
        "plt.hist(df['day_of_year'], bins=77);"
      ],
      "execution_count": 0,
      "outputs": [
        {
          "output_type": "display_data",
          "data": {
            "image/png": "[encoded data removed]",
            "text/plain": [
              "<Figure size 1080x576 with 1 Axes>"
            ]
          },
          "metadata": {
            "tags": []
          }
        }
      ]
    },
    {
      "metadata": {
        "id": "7oQ62SWen4AU",
        "colab_type": "code",
        "colab": {}
      },
      "cell_type": "code",
      "source": [
        "# Create a histogram of ratings"
      ],
      "execution_count": 0,
      "outputs": []
    },
    {
      "metadata": {
        "id": "2IlmIov7TAuH",
        "colab_type": "code",
        "outputId": "7b88803c-05af-4e5d-9d08-dd14c9943a96",
        "colab": {
          "base_uri": "https://localhost:8080/",
          "height": 119
        }
      },
      "cell_type": "code",
      "source": [
        "# see count of all ratings\n",
        "df['rating'].value_counts()"
      ],
      "execution_count": 0,
      "outputs": [
        {
          "output_type": "execute_result",
          "data": {
            "text/plain": [
              "5    2178\n",
              "4     437\n",
              "1     161\n",
              "3     152\n",
              "2      94\n",
              "Name: rating, dtype: int64"
            ]
          },
          "metadata": {
            "tags": []
          },
          "execution_count": 22
        }
      ]
    },
    {
      "metadata": {
        "id": "1LZ10LghT2Hb",
        "colab_type": "code",
        "outputId": "17bc69bc-b718-446d-d8fd-d8d87dfd6f3c",
        "colab": {
          "base_uri": "https://localhost:8080/",
          "height": 347
        }
      },
      "cell_type": "code",
      "source": [
        "# matplotlib histogram of ratings\n",
        "plt.xticks(np.arange(1,6, 1))\n",
        "plt.hist(df['rating']);"
      ],
      "execution_count": 0,
      "outputs": [
        {
          "output_type": "display_data",
          "data": {
            "image/png": "[encoded data removed]",
            "text/plain": [
              "<Figure size 576x396 with 1 Axes>"
            ]
          },
          "metadata": {
            "tags": []
          }
        }
      ]
    },
    {
      "metadata": {
        "id": "CS86rkUOTA0L",
        "colab_type": "code",
        "outputId": "3aadcb1e-46bd-40c8-facc-1f8a3edcd05e",
        "colab": {
          "base_uri": "https://localhost:8080/",
          "height": 376
        }
      },
      "cell_type": "code",
      "source": [
        "# seaborn distplot\n",
        "sns.set_style(\"white\")\n",
        "plt.xticks(np.arange(1,6))\n",
        "plt.title('Distribution of Ratings')\n",
        "plt.ylabel('# of Reviews')\n",
        "plt.xlabel('Rating')\n",
        "sns.distplot(df['rating'], hist=True, kde=False, color='red', hist_kws=dict(alpha=1) );"
      ],
      "execution_count": 0,
      "outputs": [
        {
          "output_type": "display_data",
          "data": {
            "image/png": "[encoded data removed]",
            "text/plain": [
              "<Figure size 576x396 with 1 Axes>"
            ]
          },
          "metadata": {
            "tags": []
          }
        }
      ]
    },
    {
      "metadata": {
        "id": "cqJ5AwEEok-Q",
        "colab_type": "text"
      },
      "cell_type": "markdown",
      "source": [
        "## Exploration and Feature Engineering\n",
        "\n",
        "Let's create some features for our model. Reminder: you are welcome to install and use any packages you wish.\n",
        "\n",
        "\n",
        "1.   Create a new column called \"verified_reviews_clean\" that removes filler words from \"verified_reviews\" like \"the\", \"a\", \"and\", \"I\", etc. \n",
        "2.   Find the most common non-filler words for each rating score. Example:\n",
        "\n",
        "\n",
        "```\n",
        "Rating |ReviewsWith_love | ReviewsWith_laugh | ....\n",
        "1               0                  1              \n",
        "2               0                  2             \n",
        "3               2                  1            \n",
        "...\n",
        "\n",
        "```\n",
        "\n",
        "3.   Create dummy variables (1 or 0) for the presence of these words in each review.\n",
        "\n"
      ]
    },
    {
      "metadata": {
        "id": "BaJjbJJBsDh_",
        "colab_type": "code",
        "colab": {}
      },
      "cell_type": "code",
      "source": [
        "# Create a new column called \"verified_reviews_clean\" that removes filler words\n",
        "# from \"verified_reviews\" like \"the\", \"a\", \"and\", \"I\", etc."
      ],
      "execution_count": 0,
      "outputs": []
    },
    {
      "metadata": {
        "id": "iX88biOEYJw-",
        "colab_type": "code",
        "outputId": "cd1c07e5-f089-4606-8b10-7673030ea838",
        "colab": {
          "base_uri": "https://localhost:8080/",
          "height": 68
        }
      },
      "cell_type": "code",
      "source": [
        "import nltk\n",
        "nltk.download('stopwords')"
      ],
      "execution_count": 0,
      "outputs": [
        {
          "output_type": "stream",
          "text": [
            "[nltk_data] Downloading package stopwords to /root/nltk_data...\n",
            "[nltk_data]   Unzipping corpora/stopwords.zip.\n"
          ],
          "name": "stdout"
        },
        {
          "output_type": "execute_result",
          "data": {
            "text/plain": [
              "True"
            ]
          },
          "metadata": {
            "tags": []
          },
          "execution_count": 69
        }
      ]
    },
    {
      "metadata": {
        "id": "18IwUzehYXx7",
        "colab_type": "code",
        "colab": {}
      },
      "cell_type": "code",
      "source": [
        "from nltk.corpus import stopwords\n",
        "stop = stopwords.words('english')"
      ],
      "execution_count": 0,
      "outputs": []
    },
    {
      "metadata": {
        "id": "-9-KFfw1Yauy",
        "colab_type": "code",
        "outputId": "3c54a755-6c26-476b-fd16-314a2c02d2f6",
        "colab": {
          "base_uri": "https://localhost:8080/",
          "height": 204
        }
      },
      "cell_type": "code",
      "source": [
        "df['verified_reviews'][:10]"
      ],
      "execution_count": 0,
      "outputs": [
        {
          "output_type": "execute_result",
          "data": {
            "text/plain": [
              "0                                          love my echo\n",
              "2     sometimes while playing a game you can answer ...\n",
              "3     i have had a lot of fun with this thing my 4 y...\n",
              "5     i received the echo as a gift i needed another...\n",
              "6     without having a cellphone i cannot use many o...\n",
              "7     i think this is the 5th one ive purchased im w...\n",
              "8                                           looks great\n",
              "9     love it i’ve listened to songs i haven’t heard...\n",
              "10    i sent it to my 85 year old dad and he talks t...\n",
              "11    i love it learning knew things with it eveyday...\n",
              "Name: verified_reviews, dtype: object"
            ]
          },
          "metadata": {
            "tags": []
          },
          "execution_count": 77
        }
      ]
    },
    {
      "metadata": {
        "id": "pYJHlzBKZe-_",
        "colab_type": "code",
        "colab": {}
      },
      "cell_type": "code",
      "source": [
        "df['verified_reviews_clean'] = df['verified_reviews'].apply(lambda x: ' '.join([word for word in x.split() if word not in (stop)]))"
      ],
      "execution_count": 0,
      "outputs": []
    },
    {
      "metadata": {
        "id": "qinjIIt7ZfGY",
        "colab_type": "code",
        "outputId": "85c17cb5-22b3-4d46-ffa2-5da8e11b9b79",
        "colab": {
          "base_uri": "https://localhost:8080/",
          "height": 816
        }
      },
      "cell_type": "code",
      "source": [
        "print(df.head(10))"
      ],
      "execution_count": 0,
      "outputs": [
        {
          "output_type": "stream",
          "text": [
            "    rating       date             variation  \\\n",
            "0        5  31-Jul-18      Charcoal Fabric    \n",
            "2        4  31-Jul-18        Walnut Finish    \n",
            "3        5  31-Jul-18      Charcoal Fabric    \n",
            "5        5  31-Jul-18  Heather Gray Fabric    \n",
            "6        3  31-Jul-18     Sandstone Fabric    \n",
            "7        5  31-Jul-18      Charcoal Fabric    \n",
            "8        5  30-Jul-18  Heather Gray Fabric    \n",
            "9        5  30-Jul-18  Heather Gray Fabric    \n",
            "10       5  30-Jul-18      Charcoal Fabric    \n",
            "11       5  30-Jul-18      Charcoal Fabric    \n",
            "\n",
            "                                     verified_reviews  feedback  word_count  \\\n",
            "0                                        love my echo         1           3   \n",
            "2   sometimes while playing a game you can answer ...         1          38   \n",
            "3   i have had a lot of fun with this thing my 4 y...         1          34   \n",
            "5   i received the echo as a gift i needed another...         1          32   \n",
            "6   without having a cellphone i cannot use many o...         1          75   \n",
            "7   i think this is the 5th one ive purchased im w...         1          40   \n",
            "8                                         looks great         1           2   \n",
            "9   love it i’ve listened to songs i haven’t heard...         1          19   \n",
            "10  i sent it to my 85 year old dad and he talks t...         1          15   \n",
            "11  i love it learning knew things with it eveyday...         1          32   \n",
            "\n",
            "     datetime  day_of_year  day_of_week  \\\n",
            "0  2018-07-31          212            1   \n",
            "2  2018-07-31          212            1   \n",
            "3  2018-07-31          212            1   \n",
            "5  2018-07-31          212            1   \n",
            "6  2018-07-31          212            1   \n",
            "7  2018-07-31          212            1   \n",
            "8  2018-07-30          211            0   \n",
            "9  2018-07-30          211            0   \n",
            "10 2018-07-30          211            0   \n",
            "11 2018-07-30          211            0   \n",
            "\n",
            "                               verified_reviews_clean  \n",
            "0                                           love echo  \n",
            "2   sometimes playing game answer question correct...  \n",
            "3   lot fun thing 4 yr old learns dinosaurs contro...  \n",
            "5   received echo gift needed another bluetooth so...  \n",
            "6   without cellphone cannot use many features ipa...  \n",
            "7   think 5th one ive purchased im working getting...  \n",
            "8                                         looks great  \n",
            "9   love i’ve listened songs haven’t heard since c...  \n",
            "10              sent 85 year old dad talks constantly  \n",
            "11  love learning knew things eveyday still figuri...  \n"
          ],
          "name": "stdout"
        }
      ]
    },
    {
      "metadata": {
        "id": "W2vJOp_mYazn",
        "colab_type": "code",
        "colab": {}
      },
      "cell_type": "code",
      "source": [
        ""
      ],
      "execution_count": 0,
      "outputs": []
    },
    {
      "metadata": {
        "id": "tAiLXwUHsIpt",
        "colab_type": "code",
        "colab": {}
      },
      "cell_type": "code",
      "source": [
        "# Find the most common non-filler words for each rating score. Example:\n",
        "# Rating |ReviewsWith_love | ReviewsWith_laugh | ....\n",
        "# 1               0                  1              \n",
        "# 2               0                  2             \n",
        "# 3               2                  1            \n",
        "# ..."
      ],
      "execution_count": 0,
      "outputs": []
    },
    {
      "metadata": {
        "id": "6dVtalgzZ1eJ",
        "colab_type": "code",
        "outputId": "77924614-7b47-454d-d194-6201a4fe88a2",
        "colab": {
          "base_uri": "https://localhost:8080/",
          "height": 136
        }
      },
      "cell_type": "code",
      "source": [
        "# mean word count by rating\n",
        "df.groupby('rating')['word_count'].mean()"
      ],
      "execution_count": 0,
      "outputs": [
        {
          "output_type": "execute_result",
          "data": {
            "text/plain": [
              "rating\n",
              "1    36.068323\n",
              "2    48.000000\n",
              "3    39.401316\n",
              "4    35.443936\n",
              "5    21.765840\n",
              "Name: word_count, dtype: float64"
            ]
          },
          "metadata": {
            "tags": []
          },
          "execution_count": 82
        }
      ]
    },
    {
      "metadata": {
        "id": "YS8C6Y_bZ1ng",
        "colab_type": "code",
        "outputId": "eaa489a2-f6af-4e4c-d492-59393a73557a",
        "colab": {
          "base_uri": "https://localhost:8080/",
          "height": 136
        }
      },
      "cell_type": "code",
      "source": [
        "# most frequent word count\n",
        "df.groupby('rating')['word_count'].agg(lambda x:x.value_counts().index[0])"
      ],
      "execution_count": 0,
      "outputs": [
        {
          "output_type": "execute_result",
          "data": {
            "text/plain": [
              "rating\n",
              "1     0\n",
              "2    42\n",
              "3     0\n",
              "4     4\n",
              "5     3\n",
              "Name: word_count, dtype: int64"
            ]
          },
          "metadata": {
            "tags": []
          },
          "execution_count": 84
        }
      ]
    },
    {
      "metadata": {
        "id": "YCmZwMUIbtzs",
        "colab_type": "code",
        "colab": {}
      },
      "cell_type": "code",
      "source": [
        "# eliminate blank entries\n",
        "df = df[df['verified_reviews_clean'] != '']"
      ],
      "execution_count": 0,
      "outputs": []
    },
    {
      "metadata": {
        "id": "Z-0DTtSTfHcT",
        "colab_type": "code",
        "colab": {}
      },
      "cell_type": "code",
      "source": [
        "# reset index\n",
        "df = df.reset_index(drop=True)"
      ],
      "execution_count": 0,
      "outputs": []
    },
    {
      "metadata": {
        "id": "3Dnjar_hZ1ws",
        "colab_type": "code",
        "outputId": "12b3f115-7daf-4348-d685-6b4899e93ef0",
        "colab": {
          "base_uri": "https://localhost:8080/",
          "height": 136
        }
      },
      "cell_type": "code",
      "source": [
        "# most common non-filler word for each rating\n",
        "df.groupby('rating')['verified_reviews_clean'].apply(lambda x: x.str.split(expand=True).stack().mode().iloc[0])"
      ],
      "execution_count": 0,
      "outputs": [
        {
          "output_type": "execute_result",
          "data": {
            "text/plain": [
              "rating\n",
              "1    echo\n",
              "2    echo\n",
              "3    echo\n",
              "4    echo\n",
              "5    love\n",
              "Name: verified_reviews_clean, dtype: object"
            ]
          },
          "metadata": {
            "tags": []
          },
          "execution_count": 89
        }
      ]
    },
    {
      "metadata": {
        "id": "R0lrdbFtcNfq",
        "colab_type": "text"
      },
      "cell_type": "markdown",
      "source": [
        "Since 'echo' is coming up #1 for every rating, I'm going to expand it a little bit"
      ]
    },
    {
      "metadata": {
        "id": "BE-MMeRQag6U",
        "colab_type": "code",
        "outputId": "7573cbc6-d4b3-47a9-c774-875c49a1272a",
        "colab": {
          "base_uri": "https://localhost:8080/",
          "height": 901
        }
      },
      "cell_type": "code",
      "source": [
        "# top 10 words for each rating\n",
        "df.groupby('rating')['verified_reviews_clean'].apply(lambda x: x.str.split(expand=True).stack().value_counts()[:10])"
      ],
      "execution_count": 0,
      "outputs": [
        {
          "output_type": "execute_result",
          "data": {
            "text/plain": [
              "rating         \n",
              "1       echo        49\n",
              "        amazon      43\n",
              "        would       31\n",
              "        one         28\n",
              "        dot         26\n",
              "        device      25\n",
              "        work        24\n",
              "        product     24\n",
              "        get         22\n",
              "        bought      19\n",
              "2       echo        41\n",
              "        alexa       33\n",
              "        device      29\n",
              "        like        27\n",
              "        music       24\n",
              "        play        22\n",
              "        would       22\n",
              "        sound       21\n",
              "        get         20\n",
              "        use         20\n",
              "3       echo        53\n",
              "        alexa       48\n",
              "        like        36\n",
              "        speaker     30\n",
              "        music       28\n",
              "        sound       27\n",
              "        quality     26\n",
              "        dot         26\n",
              "        better      24\n",
              "        get         23\n",
              "4       echo       150\n",
              "        great      123\n",
              "        like       117\n",
              "        alexa      112\n",
              "        music      100\n",
              "        use         97\n",
              "        love        86\n",
              "        good        69\n",
              "        sound       68\n",
              "        would       68\n",
              "5       love       796\n",
              "        great      549\n",
              "        echo       532\n",
              "        alexa      375\n",
              "        music      364\n",
              "        use        317\n",
              "        like       304\n",
              "        easy       289\n",
              "        works      277\n",
              "        one        238\n",
              "Name: verified_reviews_clean, dtype: int64"
            ]
          },
          "metadata": {
            "tags": []
          },
          "execution_count": 93
        }
      ]
    },
    {
      "metadata": {
        "id": "QHhn_T5EsMPp",
        "colab_type": "code",
        "colab": {}
      },
      "cell_type": "code",
      "source": [
        "# Create dummy variables (1 or 0) for the presence of these words in each review."
      ],
      "execution_count": 0,
      "outputs": []
    },
    {
      "metadata": {
        "id": "ekVfuejhcjw-",
        "colab_type": "code",
        "colab": {}
      },
      "cell_type": "code",
      "source": [
        "x1 = df['verified_reviews_clean'][0]"
      ],
      "execution_count": 0,
      "outputs": []
    },
    {
      "metadata": {
        "id": "KyIPe2fYcj6y",
        "colab_type": "code",
        "outputId": "d6b9cc8d-ed69-4430-bd1a-4bdfeb772058",
        "colab": {
          "base_uri": "https://localhost:8080/",
          "height": 34
        }
      },
      "cell_type": "code",
      "source": [
        "x1.__contains__('love')"
      ],
      "execution_count": 0,
      "outputs": [
        {
          "output_type": "execute_result",
          "data": {
            "text/plain": [
              "True"
            ]
          },
          "metadata": {
            "tags": []
          },
          "execution_count": 96
        }
      ]
    },
    {
      "metadata": {
        "id": "nnzgB9iZckEC",
        "colab_type": "code",
        "outputId": "4a5a6678-bed5-4063-821e-a322ad1eb88a",
        "colab": {
          "base_uri": "https://localhost:8080/",
          "height": 34
        }
      },
      "cell_type": "code",
      "source": [
        "\"love\" in x1"
      ],
      "execution_count": 0,
      "outputs": [
        {
          "output_type": "execute_result",
          "data": {
            "text/plain": [
              "True"
            ]
          },
          "metadata": {
            "tags": []
          },
          "execution_count": 97
        }
      ]
    },
    {
      "metadata": {
        "id": "uzebRFr9ckNv",
        "colab_type": "code",
        "colab": {}
      },
      "cell_type": "code",
      "source": [
        "# dummy variables\n",
        "df['echo'] = 0\n",
        "df['love'] = 0\n",
        "df['great'] = 0\n",
        "df['like'] = 0\n",
        "df['easy'] = 0\n",
        "df['better'] = 0\n",
        "df['bought'] = 0"
      ],
      "execution_count": 0,
      "outputs": []
    },
    {
      "metadata": {
        "id": "qu6IOzKsdZRI",
        "colab_type": "code",
        "colab": {}
      },
      "cell_type": "code",
      "source": [
        "# create funtion for dummy variables; checks whether condition is met\n",
        "def dummies(word):\n",
        "    for i in range(len(df['verified_reviews_clean'])):\n",
        "        if word in df['verified_reviews_clean'][i]:\n",
        "            df[word][i] = 1"
      ],
      "execution_count": 0,
      "outputs": []
    },
    {
      "metadata": {
        "id": "445VKJ0YdZaU",
        "colab_type": "code",
        "colab": {}
      },
      "cell_type": "code",
      "source": [
        "# populate 'love' dummy variable\n",
        "dummies('love')"
      ],
      "execution_count": 0,
      "outputs": []
    },
    {
      "metadata": {
        "id": "t69df0a_fSPb",
        "colab_type": "code",
        "outputId": "bcbbef79-ddde-456e-d4f2-a8b5209ae047",
        "colab": {
          "base_uri": "https://localhost:8080/",
          "height": 1020
        }
      },
      "cell_type": "code",
      "source": [
        "print(df.head(10))"
      ],
      "execution_count": 0,
      "outputs": [
        {
          "output_type": "stream",
          "text": [
            "   rating       date             variation  \\\n",
            "0       5  31-Jul-18      Charcoal Fabric    \n",
            "1       4  31-Jul-18        Walnut Finish    \n",
            "2       5  31-Jul-18      Charcoal Fabric    \n",
            "3       5  31-Jul-18  Heather Gray Fabric    \n",
            "4       3  31-Jul-18     Sandstone Fabric    \n",
            "5       5  31-Jul-18      Charcoal Fabric    \n",
            "6       5  30-Jul-18  Heather Gray Fabric    \n",
            "7       5  30-Jul-18  Heather Gray Fabric    \n",
            "8       5  30-Jul-18      Charcoal Fabric    \n",
            "9       5  30-Jul-18      Charcoal Fabric    \n",
            "\n",
            "                                    verified_reviews  feedback  word_count  \\\n",
            "0                                       love my echo         1           3   \n",
            "1  sometimes while playing a game you can answer ...         1          38   \n",
            "2  i have had a lot of fun with this thing my 4 y...         1          34   \n",
            "3  i received the echo as a gift i needed another...         1          32   \n",
            "4  without having a cellphone i cannot use many o...         1          75   \n",
            "5  i think this is the 5th one ive purchased im w...         1          40   \n",
            "6                                        looks great         1           2   \n",
            "7  love it i’ve listened to songs i haven’t heard...         1          19   \n",
            "8  i sent it to my 85 year old dad and he talks t...         1          15   \n",
            "9  i love it learning knew things with it eveyday...         1          32   \n",
            "\n",
            "    datetime  day_of_year  day_of_week  \\\n",
            "0 2018-07-31          212            1   \n",
            "1 2018-07-31          212            1   \n",
            "2 2018-07-31          212            1   \n",
            "3 2018-07-31          212            1   \n",
            "4 2018-07-31          212            1   \n",
            "5 2018-07-31          212            1   \n",
            "6 2018-07-30          211            0   \n",
            "7 2018-07-30          211            0   \n",
            "8 2018-07-30          211            0   \n",
            "9 2018-07-30          211            0   \n",
            "\n",
            "                              verified_reviews_clean  echo  love  great  like  \\\n",
            "0                                          love echo     0     1      0     0   \n",
            "1  sometimes playing game answer question correct...     0     0      0     0   \n",
            "2  lot fun thing 4 yr old learns dinosaurs contro...     0     0      0     0   \n",
            "3  received echo gift needed another bluetooth so...     0     0      0     0   \n",
            "4  without cellphone cannot use many features ipa...     0     0      0     0   \n",
            "5  think 5th one ive purchased im working getting...     0     0      0     0   \n",
            "6                                        looks great     0     0      0     0   \n",
            "7  love i’ve listened songs haven’t heard since c...     0     1      0     0   \n",
            "8              sent 85 year old dad talks constantly     0     0      0     0   \n",
            "9  love learning knew things eveyday still figuri...     0     1      0     0   \n",
            "\n",
            "   easy  better  bought  \n",
            "0     0       0       0  \n",
            "1     0       0       0  \n",
            "2     0       0       0  \n",
            "3     0       0       0  \n",
            "4     0       0       0  \n",
            "5     0       0       0  \n",
            "6     0       0       0  \n",
            "7     0       0       0  \n",
            "8     0       0       0  \n",
            "9     0       0       0  \n"
          ],
          "name": "stdout"
        }
      ]
    },
    {
      "metadata": {
        "id": "DlWO2nr5dZhL",
        "colab_type": "code",
        "colab": {}
      },
      "cell_type": "code",
      "source": [
        "dummies('echo')"
      ],
      "execution_count": 0,
      "outputs": []
    },
    {
      "metadata": {
        "id": "leF1TktmfikP",
        "colab_type": "code",
        "colab": {}
      },
      "cell_type": "code",
      "source": [
        "dummies('great')"
      ],
      "execution_count": 0,
      "outputs": []
    },
    {
      "metadata": {
        "id": "GwQEyetOfiu8",
        "colab_type": "code",
        "colab": {}
      },
      "cell_type": "code",
      "source": [
        "dummies('like')"
      ],
      "execution_count": 0,
      "outputs": []
    },
    {
      "metadata": {
        "id": "PifvSQUtfi7H",
        "colab_type": "code",
        "colab": {}
      },
      "cell_type": "code",
      "source": [
        "dummies('easy')"
      ],
      "execution_count": 0,
      "outputs": []
    },
    {
      "metadata": {
        "id": "wG0bONP7fjG5",
        "colab_type": "code",
        "colab": {}
      },
      "cell_type": "code",
      "source": [
        "dummies('better')"
      ],
      "execution_count": 0,
      "outputs": []
    },
    {
      "metadata": {
        "id": "8CVhQkrtfjPY",
        "colab_type": "code",
        "colab": {}
      },
      "cell_type": "code",
      "source": [
        "dummies('bought')"
      ],
      "execution_count": 0,
      "outputs": []
    },
    {
      "metadata": {
        "id": "budTyOlGfi3u",
        "colab_type": "code",
        "outputId": "685bd16c-5a16-4927-bb58-19f9688ecc28",
        "colab": {
          "base_uri": "https://localhost:8080/",
          "height": 1870
        }
      },
      "cell_type": "code",
      "source": [
        "print(df.head(20))"
      ],
      "execution_count": 0,
      "outputs": [
        {
          "output_type": "stream",
          "text": [
            "    rating       date             variation  \\\n",
            "0        5  31-Jul-18      Charcoal Fabric    \n",
            "1        4  31-Jul-18        Walnut Finish    \n",
            "2        5  31-Jul-18      Charcoal Fabric    \n",
            "3        5  31-Jul-18  Heather Gray Fabric    \n",
            "4        3  31-Jul-18     Sandstone Fabric    \n",
            "5        5  31-Jul-18      Charcoal Fabric    \n",
            "6        5  30-Jul-18  Heather Gray Fabric    \n",
            "7        5  30-Jul-18  Heather Gray Fabric    \n",
            "8        5  30-Jul-18      Charcoal Fabric    \n",
            "9        5  30-Jul-18      Charcoal Fabric    \n",
            "10       5  30-Jul-18           Oak Finish    \n",
            "11       5  30-Jul-18      Charcoal Fabric    \n",
            "12       5  30-Jul-18           Oak Finish    \n",
            "13       5  30-Jul-18  Heather Gray Fabric    \n",
            "14       5  30-Jul-18  Heather Gray Fabric    \n",
            "15       5  30-Jul-18  Heather Gray Fabric    \n",
            "16       5  30-Jul-18      Charcoal Fabric    \n",
            "17       4  30-Jul-18     Sandstone Fabric    \n",
            "18       5  30-Jul-18      Charcoal Fabric    \n",
            "19       5  30-Jul-18      Charcoal Fabric    \n",
            "\n",
            "                                     verified_reviews  feedback  word_count  \\\n",
            "0                                        love my echo         1           3   \n",
            "1   sometimes while playing a game you can answer ...         1          38   \n",
            "2   i have had a lot of fun with this thing my 4 y...         1          34   \n",
            "3   i received the echo as a gift i needed another...         1          32   \n",
            "4   without having a cellphone i cannot use many o...         1          75   \n",
            "5   i think this is the 5th one ive purchased im w...         1          40   \n",
            "6                                         looks great         1           2   \n",
            "7   love it i’ve listened to songs i haven’t heard...         1          19   \n",
            "8   i sent it to my 85 year old dad and he talks t...         1          15   \n",
            "9   i love it learning knew things with it eveyday...         1          32   \n",
            "10  i purchased this for my mother who is having k...         1          57   \n",
            "11                                     love love love         1           3   \n",
            "12                               just what i expected         1           4   \n",
            "13                            i love it wife hates it         1           6   \n",
            "14  really happy with this purchase  great speaker...         1          12   \n",
            "15  we have only been using alexa for a couple of ...         1          44   \n",
            "16  we love the size of the 2nd generation echo st...         1          16   \n",
            "17  i liked the original echo this is the same but...         1          83   \n",
            "18  love the echo and how good the music sounds pl...         1          45   \n",
            "19  we love alexa we use her to play music play ra...         1          66   \n",
            "\n",
            "     datetime  day_of_year  day_of_week  \\\n",
            "0  2018-07-31          212            1   \n",
            "1  2018-07-31          212            1   \n",
            "2  2018-07-31          212            1   \n",
            "3  2018-07-31          212            1   \n",
            "4  2018-07-31          212            1   \n",
            "5  2018-07-31          212            1   \n",
            "6  2018-07-30          211            0   \n",
            "7  2018-07-30          211            0   \n",
            "8  2018-07-30          211            0   \n",
            "9  2018-07-30          211            0   \n",
            "10 2018-07-30          211            0   \n",
            "11 2018-07-30          211            0   \n",
            "12 2018-07-30          211            0   \n",
            "13 2018-07-30          211            0   \n",
            "14 2018-07-30          211            0   \n",
            "15 2018-07-30          211            0   \n",
            "16 2018-07-30          211            0   \n",
            "17 2018-07-30          211            0   \n",
            "18 2018-07-30          211            0   \n",
            "19 2018-07-30          211            0   \n",
            "\n",
            "                               verified_reviews_clean  echo  love  great  \\\n",
            "0                                           love echo     1     1      0   \n",
            "1   sometimes playing game answer question correct...     0     0      0   \n",
            "2   lot fun thing 4 yr old learns dinosaurs contro...     0     0      0   \n",
            "3   received echo gift needed another bluetooth so...     1     0      0   \n",
            "4   without cellphone cannot use many features ipa...     0     0      1   \n",
            "5   think 5th one ive purchased im working getting...     1     0      0   \n",
            "6                                         looks great     0     0      1   \n",
            "7   love i’ve listened songs haven’t heard since c...     0     1      1   \n",
            "8               sent 85 year old dad talks constantly     0     0      0   \n",
            "9   love learning knew things eveyday still figuri...     0     1      0   \n",
            "10  purchased mother knee problems give something ...     0     0      0   \n",
            "11                                     love love love     0     1      0   \n",
            "12                                           expected     0     0      0   \n",
            "13                                    love wife hates     0     1      0   \n",
            "14       really happy purchase great speaker easy set     0     0      1   \n",
            "15  using alexa couple days lot fun new toy like n...     0     0      0   \n",
            "16  love size 2nd generation echo still needs litt...     1     1      0   \n",
            "17  liked original echo shorter greater fabriccolo...     1     0      1   \n",
            "18  love echo good music sounds playing alexa unde...     1     1      0   \n",
            "19  love alexa use play music play radio itunes pl...     0     1      0   \n",
            "\n",
            "    like  easy  better  bought  \n",
            "0      0     0       0       0  \n",
            "1      1     0       0       0  \n",
            "2      1     0       0       0  \n",
            "3      0     0       0       0  \n",
            "4      0     0       0       0  \n",
            "5      1     0       0       0  \n",
            "6      0     0       0       0  \n",
            "7      0     0       0       0  \n",
            "8      0     0       0       0  \n",
            "9      0     1       0       0  \n",
            "10     1     0       0       0  \n",
            "11     0     0       0       0  \n",
            "12     0     0       0       0  \n",
            "13     0     0       0       0  \n",
            "14     0     1       0       0  \n",
            "15     1     0       0       0  \n",
            "16     0     0       0       0  \n",
            "17     1     0       0       0  \n",
            "18     0     0       0       0  \n",
            "19     1     0       0       0  \n"
          ],
          "name": "stdout"
        }
      ]
    },
    {
      "metadata": {
        "id": "fsHj3b5edZoF",
        "colab_type": "code",
        "colab": {}
      },
      "cell_type": "code",
      "source": [
        ""
      ],
      "execution_count": 0,
      "outputs": []
    },
    {
      "metadata": {
        "id": "RCpTv4GKsGSt",
        "colab_type": "text"
      },
      "cell_type": "markdown",
      "source": [
        "## Prediction\n",
        "\n",
        "Create a model using your new features to predict the rating score given the review.\n",
        "\n",
        "\n",
        "1.   Split the dataset into a training and test set using the method of your choice.\n",
        "2.   Create a column called \"predicted_rating\" and use the model of your choice to achieve the best accuracy possible. In the text cell, explain how you chose your model and loss function.\n",
        "\n"
      ]
    },
    {
      "metadata": {
        "id": "MZ045E-8Y892",
        "colab_type": "code",
        "colab": {}
      },
      "cell_type": "code",
      "source": [
        "# Split the dataset into a training and test set using the method of your choice."
      ],
      "execution_count": 0,
      "outputs": []
    },
    {
      "metadata": {
        "id": "wLsZnDFQghtq",
        "colab_type": "code",
        "outputId": "42e00eb8-5467-4d67-a6f8-4f9b9191ca2e",
        "colab": {
          "base_uri": "https://localhost:8080/",
          "height": 102
        }
      },
      "cell_type": "code",
      "source": [
        "df.columns"
      ],
      "execution_count": 0,
      "outputs": [
        {
          "output_type": "execute_result",
          "data": {
            "text/plain": [
              "Index(['rating', 'date', 'variation', 'verified_reviews', 'feedback',\n",
              "       'word_count', 'datetime', 'day_of_year', 'day_of_week',\n",
              "       'verified_reviews_clean', 'echo', 'love', 'great', 'like', 'easy',\n",
              "       'better', 'bought'],\n",
              "      dtype='object')"
            ]
          },
          "metadata": {
            "tags": []
          },
          "execution_count": 114
        }
      ]
    },
    {
      "metadata": {
        "id": "iwpJBQNCg8b3",
        "colab_type": "code",
        "outputId": "95a60c1d-b5ad-4d71-9670-122bfb6785e3",
        "colab": {
          "base_uri": "https://localhost:8080/",
          "height": 153
        }
      },
      "cell_type": "code",
      "source": [
        "print(df.head(1))"
      ],
      "execution_count": 0,
      "outputs": [
        {
          "output_type": "stream",
          "text": [
            "   rating       date         variation verified_reviews  feedback  word_count  \\\n",
            "0       5  31-Jul-18  Charcoal Fabric      love my echo         1           3   \n",
            "\n",
            "    datetime  day_of_year  day_of_week verified_reviews_clean  echo  love  \\\n",
            "0 2018-07-31          212            1              love echo     1     1   \n",
            "\n",
            "   great  like  easy  better  bought  \n",
            "0      0     0     0       0       0  \n"
          ],
          "name": "stdout"
        }
      ]
    },
    {
      "metadata": {
        "id": "x6OEXCHRgiIZ",
        "colab_type": "code",
        "colab": {}
      },
      "cell_type": "code",
      "source": [
        "from sklearn.model_selection import train_test_split\n",
        "\n",
        "X = df[['feedback', 'word_count', 'day_of_year', 'day_of_week',\n",
        "       'echo', 'love', 'great', 'like', 'easy', 'better', 'bought']]\n",
        "y = df['rating']\n",
        "\n",
        "X_train, X_test, y_train, y_test = train_test_split(X, y, test_size=0.33, random_state=42)"
      ],
      "execution_count": 0,
      "outputs": []
    },
    {
      "metadata": {
        "id": "tbBbQbNVgr94",
        "colab_type": "code",
        "colab": {}
      },
      "cell_type": "code",
      "source": [
        "# linear regression models\n",
        "from sklearn.linear_model import LinearRegression, Ridge\n",
        "from sklearn.tree import DecisionTreeRegressor\n",
        "from sklearn.ensemble import GradientBoostingRegressor, AdaBoostRegressor\n",
        "from sklearn.ensemble import RandomForestRegressor, ExtraTreesRegressor\n",
        "from sklearn.linear_model import ElasticNet, Lasso,  BayesianRidge, LassoLarsIC\n",
        "from sklearn.kernel_ridge import KernelRidge\n",
        "from sklearn.svm import SVR, LinearSVR\n",
        "from xgboost import XGBRegressor\n",
        "\n",
        "# cross-val\n",
        "from sklearn.model_selection import cross_val_score"
      ],
      "execution_count": 0,
      "outputs": []
    },
    {
      "metadata": {
        "id": "KRUYG4rVgsKA",
        "colab_type": "code",
        "colab": {}
      },
      "cell_type": "code",
      "source": [
        "# adding some scoring options\n",
        "from sklearn.metrics import mean_squared_error\n",
        "\n",
        "# Root Mean Squared Logarithmic Error (RMSLE)\n",
        "def rmsle(y_pred, y_test) : \n",
        "    if len(y_test) == len(y_pred):\n",
        "        return np.sqrt(np.mean((np.log(1+y_pred) - np.log(1+y_test))**2))\n",
        "      \n",
        "# Root mean squared error (RMSE)\n",
        "def rmse(y_pred, y_test):\n",
        "  return np.sqrt(mean_squared_error(y_test, y_pred))"
      ],
      "execution_count": 0,
      "outputs": []
    },
    {
      "metadata": {
        "id": "AsB8pfQrhTkr",
        "colab_type": "code",
        "colab": {}
      },
      "cell_type": "code",
      "source": [
        "def build_model(type):\n",
        "    model = type\n",
        "    model_fit = model.fit(X_train, y_train)\n",
        "    model_preds = model.predict(X_test)\n",
        "    model_result = model_fit.score(X_test, y_test)\n",
        "    \n",
        "    model_cv_scores = cross_val_score(model, X, y, cv=5, scoring='neg_mean_squared_log_error')\n",
        "    model_cv_rmsle = np.sqrt(np.abs(model_cv_scores.mean()))\n",
        "    \n",
        "    print(\"=== RESULTS: \" + str(type) + \" ===\")\n",
        "    print(\"R2: \" + str(model_result))\n",
        "    print(\"RMSLE: \" + str(rmsle(model_preds, y_test)))\n",
        "    print(\"RMSE: \" + str(rmse(model_preds, y_test)))\n",
        "    print(\"Mean RMSLE Score: \", model_cv_rmsle.mean())\n",
        "    print(\"\\n\")\n",
        "    "
      ],
      "execution_count": 0,
      "outputs": []
    },
    {
      "metadata": {
        "id": "YtqxZD5fhTzP",
        "colab_type": "code",
        "outputId": "4c3c6fd6-3018-4e4e-e347-1eddadb879bb",
        "colab": {
          "base_uri": "https://localhost:8080/",
          "height": 221
        }
      },
      "cell_type": "code",
      "source": [
        "# Random Forest Regression\n",
        "build_model(RandomForestRegressor())"
      ],
      "execution_count": 0,
      "outputs": [
        {
          "output_type": "stream",
          "text": [
            "=== RESULTS: RandomForestRegressor(bootstrap=True, criterion='mse', max_depth=None,\n",
            "           max_features='auto', max_leaf_nodes=None,\n",
            "           min_impurity_decrease=0.0, min_impurity_split=None,\n",
            "           min_samples_leaf=1, min_samples_split=2,\n",
            "           min_weight_fraction_leaf=0.0, n_estimators=10, n_jobs=None,\n",
            "           oob_score=False, random_state=None, verbose=0, warm_start=False) ===\n",
            "R2: 0.7944168675104424\n",
            "RMSLE: 0.10899261314617793\n",
            "RMSE: 0.49516850484814323\n",
            "Mean RMSLE Score:  0.11353144274860735\n",
            "\n",
            "\n"
          ],
          "name": "stdout"
        }
      ]
    },
    {
      "metadata": {
        "id": "9BVa7TsPjH_2",
        "colab_type": "code",
        "outputId": "d3c4c0ff-3688-49e5-a024-7b07e4c36594",
        "colab": {
          "base_uri": "https://localhost:8080/",
          "height": 221
        }
      },
      "cell_type": "code",
      "source": [
        "# Extra Trees Regression\n",
        "build_model(ExtraTreesRegressor())"
      ],
      "execution_count": 0,
      "outputs": [
        {
          "output_type": "stream",
          "text": [
            "=== RESULTS: ExtraTreesRegressor(bootstrap=False, criterion='mse', max_depth=None,\n",
            "          max_features='auto', max_leaf_nodes=None,\n",
            "          min_impurity_decrease=0.0, min_impurity_split=None,\n",
            "          min_samples_leaf=1, min_samples_split=2,\n",
            "          min_weight_fraction_leaf=0.0, n_estimators=10, n_jobs=None,\n",
            "          oob_score=False, random_state=None, verbose=0, warm_start=False) ===\n",
            "R2: 0.7861433830058057\n",
            "RMSLE: 0.11343634918267233\n",
            "RMSE: 0.5050340040628006\n",
            "Mean RMSLE Score:  0.11669105633139591\n",
            "\n",
            "\n"
          ],
          "name": "stdout"
        }
      ]
    },
    {
      "metadata": {
        "id": "W-6lCgnZjH62",
        "colab_type": "code",
        "outputId": "ec874c6c-0fd5-4f9a-f030-3ce6be645882",
        "colab": {
          "base_uri": "https://localhost:8080/",
          "height": 153
        }
      },
      "cell_type": "code",
      "source": [
        "# Linear Regression\n",
        "build_model(LinearRegression())"
      ],
      "execution_count": 0,
      "outputs": [
        {
          "output_type": "stream",
          "text": [
            "=== RESULTS: LinearRegression(copy_X=True, fit_intercept=True, n_jobs=None,\n",
            "         normalize=False) ===\n",
            "R2: 0.789564262788842\n",
            "RMSLE: 0.11168779915801569\n",
            "RMSE: 0.5009784236701211\n",
            "Mean RMSLE Score:  0.1161527405340866\n",
            "\n",
            "\n"
          ],
          "name": "stdout"
        }
      ]
    },
    {
      "metadata": {
        "id": "y4NZrcSSjw-y",
        "colab_type": "text"
      },
      "cell_type": "markdown",
      "source": [
        "**Random Forest** has the best results from the above test in terms of R-squared and RMSLE. Though, the results are very similar to Extra Trees and Linear Regression."
      ]
    },
    {
      "metadata": {
        "id": "tyYzxJWsZAOc",
        "colab_type": "code",
        "colab": {}
      },
      "cell_type": "code",
      "source": [
        "# Create a column called \"predicted_rating\" and use the model of your choice to achieve the best accuracy possible.\n"
      ],
      "execution_count": 0,
      "outputs": []
    },
    {
      "metadata": {
        "id": "Ef4j76KfplcR",
        "colab_type": "code",
        "outputId": "2f4e0e73-b6f5-455e-f5a9-cbe6c1d966a1",
        "colab": {
          "base_uri": "https://localhost:8080/",
          "height": 1530
        }
      },
      "cell_type": "code",
      "source": [
        "X_test.index.values"
      ],
      "execution_count": 0,
      "outputs": [
        {
          "output_type": "execute_result",
          "data": {
            "text/plain": [
              "array([ 840, 1037, 2399,  678,  196,  430, 1340, 2593, 1742, 2671, 2290,\n",
              "        567,  393, 2538, 1766, 1487, 2420, 1807,  962, 1512,  642, 1533,\n",
              "        175, 2243, 2840, 2515, 1896, 1556, 1569, 2833, 1457, 2760, 2829,\n",
              "       2724, 2702, 1123,  650, 1188, 2844, 1779, 1563, 2579, 2131, 2376,\n",
              "       2469, 1586, 2873, 2473, 1554, 1321,  298, 1229,  124, 1754,  321,\n",
              "       1511,  944,  511, 1239, 2478, 1422, 2624, 2188, 1878, 2677, 1618,\n",
              "        838, 2111, 1071, 1839, 1926, 1873,  506, 2726,  178, 2638, 1992,\n",
              "        879,  366,   51,  736, 2120, 2826,  691, 1338,  296,  764, 1273,\n",
              "        693,  102, 1208,  598, 1543, 2634, 1990,  565, 2497, 2042, 2043,\n",
              "       1977, 1451,   67, 2566, 2606,  246, 2496, 2451, 2236, 1610, 1359,\n",
              "       1726, 1860, 1235, 2733,  644, 2792, 1368,  322, 1057,  685,  203,\n",
              "       1651, 2588,  528, 1509,  727, 1237, 1475,  605,  941,  387, 1376,\n",
              "        900,  457, 2409,  555, 2162, 1731, 2031, 2560, 2921, 1234, 2112,\n",
              "        998,  256,  929,   32, 2614, 1292, 2001,  964, 1450, 2370,  930,\n",
              "       1847, 2926, 2823, 1431, 1048, 1525, 1507, 2728, 2328, 1206, 1293,\n",
              "        141, 2365,  194,  651,  498, 1864, 1402,  486, 2787, 2798,  990,\n",
              "       1951, 2467,  177, 2503,  184, 1173, 1453,  251, 1539,   44, 1869,\n",
              "       1833, 2685, 1576, 1876, 2552,  842,  610,  532, 2405,  677,  411,\n",
              "       2653, 1364,  594,  859, 1729, 2807, 2723, 1094,  787, 2757,   30,\n",
              "       1947,  862, 1426,  289, 1872, 1756, 2794,  318, 2615, 1023, 2490,\n",
              "        354,  162, 2381,  402, 2762, 2166, 2118, 2939, 2549, 2249,   73,\n",
              "       2071,  463,  211, 1055,   63, 1125,  978, 2369,   45, 1127, 1399,\n",
              "       1241, 2741,  599,   80,  718, 1914,  432,   93, 1211, 2189, 2221,\n",
              "       1236,  436,  479, 1456, 1476, 2045,  331,  759,  679, 2422,  676,\n",
              "       1562,  239, 1739,  912, 1815, 2330,  368,  543, 1591, 2284,  811,\n",
              "       2714,  695,  926,  700, 1011, 1602, 1192, 1343, 1915,  495, 1538,\n",
              "        507, 1080, 1960,  976, 2260, 1064, 2299, 2900, 1791, 2703, 1920,\n",
              "       2753,  324,  670, 1665,  869, 1106, 1058, 1691,   70,  410,  785,\n",
              "       1061,   56, 2650, 1381,  478, 2898,  309, 2499, 1151,  809, 2793,\n",
              "       2519,  332,  460,  439, 2054, 1146,  761, 1760, 1510, 1988, 1295,\n",
              "       2172, 1684, 2575,  120, 2574, 1882,  612, 1429, 1505, 2510,  233,\n",
              "       1242,  554,  111, 2050,  218, 2768, 1200, 2346, 1322,  544, 1034,\n",
              "       2594, 1594, 1100, 2514, 2942, 1102,  927, 1093, 2123, 1177, 2209,\n",
              "       2895, 2263,   29, 1949, 1407, 1370, 1352, 1230,  183,  744,  188,\n",
              "        170, 1928,   43,   87, 2672, 1472,  282,  420,  527,  741,  443,\n",
              "       1289, 1703, 1927, 2257, 2404,  149, 1010,  471, 2344, 1375, 2069,\n",
              "       1027,  134, 2183,  557, 1345, 2706, 1032, 2713, 2580, 2119, 1814,\n",
              "       2241, 2736,  844, 2008,  221, 2683, 1727, 2517, 1800, 2097,  173,\n",
              "       2259,  937, 2495, 1001, 1309,  789,  573, 1709,  314,  152, 2718,\n",
              "       1536,  423,  272,  270,  564, 1207,  790, 1474, 2481, 1103,  581,\n",
              "        847, 1797, 2610, 2542,  767,  257, 1871,  139, 2335, 2739,  794,\n",
              "       2541,  254,  845, 1005,  817, 1783,  168,  535, 2053, 2932, 2737,\n",
              "        291,  810,  450,  433, 2508, 2138, 1937,  408, 2242, 2310,  135,\n",
              "       1419, 2187, 1752,  367, 2664, 2418, 2227,  772, 1736, 1017,  945,\n",
              "        485, 1073, 2271, 1278, 1075, 1553,  210, 2178, 2322, 2089, 2564,\n",
              "        365,  414,  313, 1694, 1435, 1842,  903,  533,  812,  568,  407,\n",
              "       1925,  108, 2482, 2316, 1116, 2359,  521, 2877, 2502, 2813, 1745,\n",
              "        415, 2633, 1133, 2046,  199,  283,  231, 1084, 1936,   96, 1337,\n",
              "        602, 1018,  742, 2808, 2535, 1330, 1712,  104, 1366,  889,  572,\n",
              "       1770,  226, 2636, 2567, 1025, 2744, 1922,  464, 2941, 2223, 1210,\n",
              "        755, 2092, 1260,  212,   12, 1362,  422, 1213, 2587,  637, 2395,\n",
              "       1580,  509,  819,  942, 2390, 2591,  518, 2202, 1041, 1897, 2190,\n",
              "       1351, 1264,  858,  907, 2851,  358, 2474, 2342,  259, 2582, 2345,\n",
              "       2669,  867, 2360, 2803, 1411,  829, 2663, 2637,  456,  462, 2177,\n",
              "       1866,  381, 2477, 1455, 2013, 2130, 1912,  802, 2540,  834,  897,\n",
              "       2312, 2447, 1114,  542, 1716, 1110, 1681, 2371, 2372, 1497, 1963,\n",
              "       2899, 2837,  949, 1767, 1598,  881,  435,  729,  237, 1613,  109,\n",
              "       1966,  163, 2029,  252, 1879, 1480, 1226, 2709, 2356, 1578, 2285,\n",
              "       2439,  746, 1091, 1161, 1697, 2665,  461, 2387,  157, 1820, 2003,\n",
              "       1650, 1987,  238, 1730, 1036, 1880,  100,  315, 1427,  932, 1933,\n",
              "        783,  261, 1251, 1567, 1995, 1690, 2674,  179, 2269, 2670,  999,\n",
              "       1159, 1000,  662,  480, 1615, 1105, 2927, 1952, 2250, 2186, 2366,\n",
              "       1624, 1302, 2194, 1818,  705, 2077, 1413,  247, 1502, 2878, 2830,\n",
              "       1965,  347, 1786, 2836, 2232,  655, 1263, 1044, 2791, 2536, 1720,\n",
              "       1628, 1461,  857,  445,  617, 2647, 1769, 2866, 1393, 2262, 2500,\n",
              "        547, 2661, 1506,  263, 1286, 1728,  353,  208,  952,  831, 1078,\n",
              "       2104, 1909,   57, 2781, 2616,  561, 1950,  229, 1640,  781, 2246,\n",
              "       1174, 2619, 2742, 1135,  707,  424,   69,  748, 1904, 1606,  798,\n",
              "       1124, 2529, 2229, 1777,  620,  765, 1378, 1813, 1656, 2701,  807,\n",
              "       1117, 2318, 1326,  279, 1421, 1432, 1953,  911, 1572, 2016,  856,\n",
              "        596, 1259, 2093, 2928, 2666,  440,  508,   76, 1812,  649,  522,\n",
              "       2396, 2505, 1423, 2103, 1637, 1134, 1575,  630, 2871, 1436, 2107,\n",
              "        482, 1835, 1721, 2715, 1068,  438, 2161, 1468, 2040,  166,   59,\n",
              "        611,  530, 1626,   49, 1410, 2087, 2185,   48,  719, 1412, 1216,\n",
              "       2859, 1764,  632, 1702, 2084, 2659, 2732,   25, 1391, 1221,  276,\n",
              "       2113,  874, 2096,  361, 2353, 2512, 1592, 2286,  940, 1748, 1832,\n",
              "       1253, 2577,  297, 2681,  240, 2441,  582, 2816, 1269, 2911, 1593,\n",
              "        350, 2692, 1889,  349, 2394, 1973, 2402, 2933, 1089,  657, 2266,\n",
              "       1195, 1228, 2417, 2282, 2007, 1053, 2078, 2302,  538, 1395, 1444,\n",
              "       2876, 2406, 1559,  786, 2641, 2461,  788,  958, 1231, 1916,  714,\n",
              "        803, 1316, 1462,  123, 2448, 1735, 2779,  618,  406, 1099, 2475,\n",
              "       1718, 1518,  497, 2758,  325,  342, 2219,  782, 2319,  299, 2358,\n",
              "        979, 2215, 2870, 2035, 1609,  220, 1551, 2755,  449, 2234, 1494,\n",
              "       2340,   84, 1417,  776,  841,  621, 1097,  266, 1113,  290, 2452,\n",
              "       2585, 1344,  416,  472,  604, 1934, 1741,  916, 1178, 1558, 2423,\n",
              "       2847,  654, 2184, 2051, 1225,  821,  343, 2699, 2934, 1323, 2419,\n",
              "        278, 1270, 1550, 1611, 1385,   18,  613,  643, 2011, 1204, 1437,\n",
              "       1662, 2270, 1564, 2129, 2780,  756, 2527, 1357, 1547,   88,  680,\n",
              "       2655, 2030, 2374,  965])"
            ]
          },
          "metadata": {
            "tags": []
          },
          "execution_count": 156
        }
      ]
    },
    {
      "metadata": {
        "id": "DqIuQSrKoVAl",
        "colab_type": "code",
        "colab": {}
      },
      "cell_type": "code",
      "source": [
        "def model_pred(type):\n",
        "    model = type\n",
        "    model_fit = model.fit(X_train, y_train)\n",
        "    model_pred = model.predict(X_test)\n",
        "    model_result = model_fit.score(X_test, y_test)\n",
        "        \n",
        "    return X_test.index.values, model_pred"
      ],
      "execution_count": 0,
      "outputs": []
    },
    {
      "metadata": {
        "id": "G4yBYOsKp4ST",
        "colab_type": "code",
        "colab": {}
      },
      "cell_type": "code",
      "source": [
        "predictions = model_pred(RandomForestRegressor())"
      ],
      "execution_count": 0,
      "outputs": []
    },
    {
      "metadata": {
        "id": "xUGlLcUlp4NL",
        "colab_type": "code",
        "colab": {}
      },
      "cell_type": "code",
      "source": [
        ""
      ],
      "execution_count": 0,
      "outputs": []
    },
    {
      "metadata": {
        "id": "7BO7LGJFp4JE",
        "colab_type": "code",
        "colab": {}
      },
      "cell_type": "code",
      "source": [
        "df.loc[df.index[someRowNumber], 'New Column Title'] = \"some value\""
      ],
      "execution_count": 0,
      "outputs": []
    },
    {
      "metadata": {
        "id": "rjPu3Ezmquvn",
        "colab_type": "code",
        "colab": {}
      },
      "cell_type": "code",
      "source": [
        ""
      ],
      "execution_count": 0,
      "outputs": []
    },
    {
      "metadata": {
        "id": "t-3HkgbBrPSN",
        "colab_type": "text"
      },
      "cell_type": "markdown",
      "source": [
        "I wasn't quite sure what was wanted for this last question, so I did not finish it. Wasn't sure if the new column was supposed to have only the predictions from the validation data (after the train-test split), or if I needed to come up with predictions for all the training values."
      ]
    },
    {
      "metadata": {
        "id": "N1CCtU-mnL87",
        "colab_type": "code",
        "colab": {}
      },
      "cell_type": "code",
      "source": [
        ""
      ],
      "execution_count": 0,
      "outputs": []
    },
    {
      "metadata": {
        "id": "QbWs7Xf1ZEvc",
        "colab_type": "text"
      },
      "cell_type": "markdown",
      "source": [
        "### Explain how you chose your model and loss function."
      ]
    },
    {
      "metadata": {
        "id": "_fRxPHKPZH3p",
        "colab_type": "text"
      },
      "cell_type": "markdown",
      "source": [
        "I choose a regression model since that gives more precise results. Within regression, I thought something from the Decision Tree / Random Forest family would do best given the weak predictors here. However, Linear Regression performed similarly well. "
      ]
    },
    {
      "metadata": {
        "id": "wz7e8ejBZJpY",
        "colab_type": "text"
      },
      "cell_type": "markdown",
      "source": [
        "## Bonus Points\n",
        "For bonus points, write a sentence or two about how you could further improve your model. This is not required."
      ]
    },
    {
      "metadata": {
        "id": "ZP6xSuYgZhau",
        "colab_type": "text"
      },
      "cell_type": "markdown",
      "source": [
        "This is not a deep learning model, so turning it into one could improve performance. We would need to use embeddings to transforms each review into a vector of numbers. \n",
        "\n",
        "Without using deep learning, I think adding more words as dummy variables could help. I tried to focus on unique words, and I think continuning that approach would be best, as it seems like many words are common thorughout all the reviews ('echo', 'alexa', etc). "
      ]
    },
    {
      "metadata": {
        "id": "rnk4kE2NZh5f",
        "colab_type": "text"
      },
      "cell_type": "markdown",
      "source": [
        "## Conclusion\n",
        "Thanks for completing the Iris Analytics Data Science Challenge! Submit your notebook to cprinzz@gmail.com for review. We'll get back to you within 48 hours with your results. You can download your notebook by clicking File > Download .ipynb."
      ]
    }
  ]
}